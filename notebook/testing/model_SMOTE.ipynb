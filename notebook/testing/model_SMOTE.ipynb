{
 "cells": [
  {
   "cell_type": "code",
   "execution_count": 1,
   "id": "385e7a15",
   "metadata": {},
   "outputs": [],
   "source": [
    "import pandas as pd\n",
    "from sklearn.model_selection import train_test_split, GridSearchCV\n",
    "from sklearn.linear_model import LogisticRegression\n",
    "from sklearn.tree import DecisionTreeClassifier\n",
    "from sklearn.metrics import accuracy_score, precision_score, recall_score, confusion_matrix, classification_report\n",
    "from imblearn.over_sampling import SMOTE"
   ]
  },
  {
   "cell_type": "code",
   "execution_count": 15,
   "id": "6597da3a",
   "metadata": {},
   "outputs": [],
   "source": [
    "# 1. Load the SMOTE data\n",
    "df = pd.read_csv(\"../data/creditcard_train_SMOTE.csv\")\n",
    "df2 = pd.read_csv(\"../data/creditcard_cleaned.csv\")\n",
    "\n",
    "# Assuming the target column is named 'Class'\n",
    "X = df.drop(\"Class\", axis=1)\n",
    "y = df[\"Class\"]\n",
    "\n",
    "X1= df2.drop(\"Class\", axis=1)\n",
    "y1 = df2[\"Class\"]\n",
    "# 2. Train-test split\n",
    "X_train, X_test, y_train, y_test = train_test_split(\n",
    "    X, y, test_size=0.2, random_state=42, stratify=y\n",
    ")\n",
    "\n",
    "X1_train, X1_test, y1_train, y1_test = train_test_split(\n",
    "    X1, y1, test_size=0.2, random_state=42, stratify=y1\n",
    ")"
   ]
  },
  {
   "cell_type": "code",
   "execution_count": null,
   "id": "a6c4918d",
   "metadata": {},
   "outputs": [
    {
     "name": "stdout",
     "output_type": "stream",
     "text": [
      "Logistic Regression Metrics\n",
      "Accuracy: 0.9477830121026908\n",
      "Precision: 0.973914668036711\n",
      "Recall: 0.9202118270079435\n",
      "Confusion Matrix:\n",
      " [[44204  1117]\n",
      " [ 3616 41704]]\n"
     ]
    }
   ],
   "source": [
    "# 3. Logistic Regression on SMOTE data\n",
    "log_reg = LogisticRegression(max_iter=1000)\n",
    "log_reg.fit(X_train, y_train)\n",
    "y_pred_lr = log_reg.predict(X_test)\n",
    "\n",
    "print(\"Logistic Regression Metrics\")\n",
    "print(\"Accuracy:\", accuracy_score(y_test, y_pred_lr))\n",
    "print(\"Precision:\", precision_score(y_test, y_pred_lr))\n",
    "print(\"Recall:\", recall_score(y_test, y_pred_lr))\n",
    "print(\"Confusion Matrix:\\n\", confusion_matrix(y_test, y_pred_lr))"
   ]
  },
  {
   "cell_type": "code",
   "execution_count": null,
   "id": "81d658af",
   "metadata": {},
   "outputs": [
    {
     "name": "stdout",
     "output_type": "stream",
     "text": [
      "Logistic Regression Metrics\n",
      "Accuracy: 0.9740598456278856\n",
      "Precision: 0.053791315618924175\n",
      "Recall: 0.8736842105263158\n",
      "Confusion Matrix:\n",
      " [[44204  1117]\n",
      " [ 3616 41704]]\n"
     ]
    }
   ],
   "source": [
    "# testing Logistic Regression trained with SMOTE data on original data,\n",
    "y2_pred_lr = log_reg.predict(X1_test)\n",
    "\n",
    "print(\"Logistic Regression Metrics\")\n",
    "print(\"Accuracy:\", accuracy_score(y1_test, y2_pred_lr))\n",
    "print(\"Precision:\", precision_score(y1_test, y2_pred_lr))\n",
    "print(\"Recall:\", recall_score(y1_test, y2_pred_lr))\n",
    "print(\"Confusion Matrix:\\n\", confusion_matrix(y_test, y_pred_lr))"
   ]
  },
  {
   "cell_type": "code",
   "execution_count": 12,
   "id": "29ff9147",
   "metadata": {},
   "outputs": [
    {
     "name": "stdout",
     "output_type": "stream",
     "text": [
      "\n",
      "Decision Tree Metrics\n",
      "Accuracy: 0.9987091934113701\n",
      "Precision: 0.9980827291359059\n",
      "Recall: 0.9993380406001765\n",
      "Confusion Matrix:\n",
      " [[45234    87]\n",
      " [   30 45290]]\n"
     ]
    }
   ],
   "source": [
    "# 4. Decision Tree\n",
    "tree = DecisionTreeClassifier(random_state=42)\n",
    "tree.fit(X_train, y_train)\n",
    "y_pred_tree = tree.predict(X_test)\n",
    "\n",
    "print(\"\\nDecision Tree Metrics\")\n",
    "print(\"Accuracy:\", accuracy_score(y_test, y_pred_tree))\n",
    "print(\"Precision:\", precision_score(y_test, y_pred_tree))\n",
    "print(\"Recall:\", recall_score(y_test, y_pred_tree))\n",
    "print(\"Confusion Matrix:\\n\", confusion_matrix(y_test, y_pred_tree))"
   ]
  },
  {
   "cell_type": "code",
   "execution_count": null,
   "id": "eae9e159",
   "metadata": {},
   "outputs": [],
   "source": []
  }
 ],
 "metadata": {
  "kernelspec": {
   "display_name": "venv",
   "language": "python",
   "name": "python3"
  },
  "language_info": {
   "codemirror_mode": {
    "name": "ipython",
    "version": 3
   },
   "file_extension": ".py",
   "mimetype": "text/x-python",
   "name": "python",
   "nbconvert_exporter": "python",
   "pygments_lexer": "ipython3",
   "version": "3.13.3"
  }
 },
 "nbformat": 4,
 "nbformat_minor": 5
}
