{
 "cells": [
  {
   "cell_type": "code",
   "execution_count": null,
   "id": "713a16c3",
   "metadata": {},
   "outputs": [],
   "source": [
    "from sklearn.model_selection import train_test_split\n",
    "from sklearn.linear_model import LogisticRegression\n",
    "from sklearn.ensemble import RandomForestClassifier\n",
    "from sklearn.metrics import accuracy_score, precision_score, recall_score, confusion_matrix\n",
    "from imblearn.over_sampling import SMOTE\n",
    "import pandas as pd\n",
    "\n",
    "df = pd.read_csv(\"../data/creditcard_cleaned.csv\")\n",
    "X = df.drop('Class', axis=1)\n",
    "y = df['Class']"
   ]
  },
  {
   "cell_type": "code",
   "execution_count": 5,
   "id": "5e7bf2cf",
   "metadata": {},
   "outputs": [],
   "source": [
    "# ====== 1. Prepare data ======\n",
    "# Assume X, y are defined\n",
    "X_train, X_test, y_train, y_test = train_test_split(\n",
    "    X, y, test_size=0.2, stratify=y, random_state=42\n",
    ")\n",
    "\n",
    "smote = SMOTE(random_state=42)\n",
    "X_train_sm, y_train_sm = smote.fit_resample(X_train, y_train)\n",
    "\n",
    "def print_metrics(name, y_true, y_pred):\n",
    "    print(f\"--- {name} ---\")\n",
    "    print(\"Accuracy:\", accuracy_score(y_true, y_pred))\n",
    "    print(\"Precision:\", precision_score(y_true, y_pred))\n",
    "    print(\"Recall:\", recall_score(y_true, y_pred))\n",
    "    print(\"Confusion Matrix:\\n\", confusion_matrix(y_true, y_pred))\n",
    "    print()"
   ]
  },
  {
   "cell_type": "code",
   "execution_count": 6,
   "id": "e0a1d273",
   "metadata": {},
   "outputs": [
    {
     "name": "stdout",
     "output_type": "stream",
     "text": [
      "--- Logistic Regression | No SMOTE | No Weights ---\n",
      "Accuracy: 0.9991365030134283\n",
      "Precision: 0.8484848484848485\n",
      "Recall: 0.5894736842105263\n",
      "Confusion Matrix:\n",
      " [[56641    10]\n",
      " [   39    56]]\n",
      "\n"
     ]
    }
   ],
   "source": [
    "# Logistic Regression - No SMOTE, No Class Weights\n",
    "lr = LogisticRegression(max_iter=500, random_state=42)\n",
    "lr.fit(X_train, y_train)\n",
    "y_pred = lr.predict(X_test)\n",
    "print_metrics(\"Logistic Regression | No SMOTE | No Weights\", y_test, y_pred)"
   ]
  },
  {
   "cell_type": "code",
   "execution_count": 7,
   "id": "7b2c1f28",
   "metadata": {},
   "outputs": [
    {
     "name": "stdout",
     "output_type": "stream",
     "text": [
      "--- Logistic Regression | No SMOTE | Class Weights ---\n",
      "Accuracy: 0.9751876784266732\n",
      "Precision: 0.05611899932386748\n",
      "Recall: 0.8736842105263158\n",
      "Confusion Matrix:\n",
      " [[55255  1396]\n",
      " [   12    83]]\n",
      "\n"
     ]
    }
   ],
   "source": [
    "# Logistic Regression - No SMOTE, With Class Weights\n",
    "lr_w = LogisticRegression(max_iter=500, random_state=42, class_weight='balanced')\n",
    "lr_w.fit(X_train, y_train)\n",
    "y_pred = lr_w.predict(X_test)\n",
    "print_metrics(\"Logistic Regression | No SMOTE | Class Weights\", y_test, y_pred)"
   ]
  },
  {
   "cell_type": "code",
   "execution_count": 8,
   "id": "a71067f8",
   "metadata": {},
   "outputs": [
    {
     "name": "stdout",
     "output_type": "stream",
     "text": [
      "--- Logistic Regression | SMOTE | No Weights ---\n",
      "Accuracy: 0.9737250202657456\n",
      "Precision: 0.05313700384122919\n",
      "Recall: 0.8736842105263158\n",
      "Confusion Matrix:\n",
      " [[55172  1479]\n",
      " [   12    83]]\n",
      "\n"
     ]
    }
   ],
   "source": [
    "# Logistic Regression - SMOTE, No Class Weights\n",
    "lr_sm = LogisticRegression(max_iter=500, random_state=42)\n",
    "lr_sm.fit(X_train_sm, y_train_sm)\n",
    "y_pred = lr_sm.predict(X_test)\n",
    "print_metrics(\"Logistic Regression | SMOTE | No Weights\", y_test, y_pred)"
   ]
  },
  {
   "cell_type": "code",
   "execution_count": 9,
   "id": "294260d5",
   "metadata": {},
   "outputs": [
    {
     "name": "stdout",
     "output_type": "stream",
     "text": [
      "--- Logistic Regression | SMOTE | Class Weights ---\n",
      "Accuracy: 0.9737250202657456\n",
      "Precision: 0.05313700384122919\n",
      "Recall: 0.8736842105263158\n",
      "Confusion Matrix:\n",
      " [[55172  1479]\n",
      " [   12    83]]\n",
      "\n"
     ]
    }
   ],
   "source": [
    "# Logistic Regression - SMOTE, With Class Weights\n",
    "lr_sm_w = LogisticRegression(max_iter=500, random_state=42, class_weight='balanced')\n",
    "lr_sm_w.fit(X_train_sm, y_train_sm)\n",
    "y_pred = lr_sm_w.predict(X_test)\n",
    "print_metrics(\"Logistic Regression | SMOTE | Class Weights\", y_test, y_pred)"
   ]
  },
  {
   "cell_type": "code",
   "execution_count": 10,
   "id": "b98793ad",
   "metadata": {},
   "outputs": [
    {
     "name": "stdout",
     "output_type": "stream",
     "text": [
      "--- Random Forest | No SMOTE | No Weights ---\n",
      "Accuracy: 0.9995241955380115\n",
      "Precision: 0.9722222222222222\n",
      "Recall: 0.7368421052631579\n",
      "Confusion Matrix:\n",
      " [[56649     2]\n",
      " [   25    70]]\n",
      "\n"
     ]
    }
   ],
   "source": [
    "# Random Forest - No SMOTE, No Class Weights\n",
    "rf = RandomForestClassifier(n_estimators=100, random_state=42)\n",
    "rf.fit(X_train, y_train)\n",
    "y_pred = rf.predict(X_test)\n",
    "print_metrics(\"Random Forest | No SMOTE | No Weights\", y_test, y_pred)"
   ]
  },
  {
   "cell_type": "code",
   "execution_count": 11,
   "id": "f827f1fd",
   "metadata": {},
   "outputs": [
    {
     "name": "stdout",
     "output_type": "stream",
     "text": [
      "--- Random Forest | No SMOTE | Class Weights ---\n",
      "Accuracy: 0.9995241955380115\n",
      "Precision: 0.9857142857142858\n",
      "Recall: 0.7263157894736842\n",
      "Confusion Matrix:\n",
      " [[56650     1]\n",
      " [   26    69]]\n",
      "\n"
     ]
    }
   ],
   "source": [
    "# Random Forest - No SMOTE, With Class Weights\n",
    "rf_w = RandomForestClassifier(n_estimators=100, random_state=42, class_weight='balanced')\n",
    "rf_w.fit(X_train, y_train)\n",
    "y_pred = rf_w.predict(X_test)\n",
    "print_metrics(\"Random Forest | No SMOTE | Class Weights\", y_test, y_pred)"
   ]
  },
  {
   "cell_type": "code",
   "execution_count": 12,
   "id": "1e8b22b0",
   "metadata": {},
   "outputs": [
    {
     "name": "stdout",
     "output_type": "stream",
     "text": [
      "--- Random Forest | SMOTE | No Weights ---\n",
      "Accuracy: 0.9994889507630493\n",
      "Precision: 0.9230769230769231\n",
      "Recall: 0.7578947368421053\n",
      "Confusion Matrix:\n",
      " [[56645     6]\n",
      " [   23    72]]\n",
      "\n"
     ]
    }
   ],
   "source": [
    "# Random Forest - SMOTE, No Class Weights\n",
    "rf_sm = RandomForestClassifier(n_estimators=100, random_state=42)\n",
    "rf_sm.fit(X_train_sm, y_train_sm)\n",
    "y_pred = rf_sm.predict(X_test)\n",
    "print_metrics(\"Random Forest | SMOTE | No Weights\", y_test, y_pred)"
   ]
  },
  {
   "cell_type": "code",
   "execution_count": 13,
   "id": "a04c617e",
   "metadata": {},
   "outputs": [
    {
     "name": "stdout",
     "output_type": "stream",
     "text": [
      "--- Random Forest | SMOTE | Class Weights ---\n",
      "Accuracy: 0.9994889507630493\n",
      "Precision: 0.9230769230769231\n",
      "Recall: 0.7578947368421053\n",
      "Confusion Matrix:\n",
      " [[56645     6]\n",
      " [   23    72]]\n",
      "\n"
     ]
    }
   ],
   "source": [
    "# Random Forest - SMOTE, With Class Weights\n",
    "rf_sm_w = RandomForestClassifier(n_estimators=100, random_state=42, class_weight='balanced')\n",
    "rf_sm_w.fit(X_train_sm, y_train_sm)\n",
    "y_pred = rf_sm_w.predict(X_test)\n",
    "print_metrics(\"Random Forest | SMOTE | Class Weights\", y_test, y_pred)"
   ]
  }
 ],
 "metadata": {
  "kernelspec": {
   "display_name": "venv",
   "language": "python",
   "name": "python3"
  },
  "language_info": {
   "codemirror_mode": {
    "name": "ipython",
    "version": 3
   },
   "file_extension": ".py",
   "mimetype": "text/x-python",
   "name": "python",
   "nbconvert_exporter": "python",
   "pygments_lexer": "ipython3",
   "version": "3.13.3"
  }
 },
 "nbformat": 4,
 "nbformat_minor": 5
}
